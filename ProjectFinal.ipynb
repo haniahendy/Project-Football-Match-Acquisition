{
  "nbformat": 4,
  "nbformat_minor": 0,
  "metadata": {
    "colab": {
      "provenance": []
    },
    "kernelspec": {
      "name": "python3",
      "display_name": "Python 3"
    },
    "language_info": {
      "name": "python"
    }
  },
  "cells": [
    {
      "cell_type": "markdown",
      "source": [
        "# Final Project for Data Acquisition Course\n",
        "# Football Match, Acquisition-Extraction-Labeling\n",
        "## by\\ Salma Wael , Hania Khaled\n",
        "\n",
        "## Table of Contents\n",
        "<ul>\n",
        "    <li>Video Capture and framing</li>\n",
        "    <li>Region Labeling</li>\n",
        "    <li>Feature Extraction and the Blue Team Labeling</li>\n",
        "    <li>Feature Extraction and the Yellow Team Labeling</li>\n",
        "    <li>Ball Labeling</li>\n",
        "    <li>Statistical Data Dense Counting</li>\n",
        "    \n",
        "</ul>"
      ],
      "metadata": {
        "id": "1UgnEA2v8Fo6"
      }
    },
    {
      "cell_type": "markdown",
      "source": [
        "<hr>\n",
        "\n",
        "## Used libraries"
      ],
      "metadata": {
        "id": "xEqqbbZ7-8gL"
      }
    },
    {
      "cell_type": "code",
      "execution_count": null,
      "metadata": {
        "id": "tM3KN_t3ZuMS"
      },
      "outputs": [],
      "source": [
        "import cv2\n",
        "import numpy as np\n",
        "from google.colab.patches import cv2_imshow\n",
        "import matplotlib.pyplot as plt\n",
        "import math"
      ]
    },
    {
      "cell_type": "markdown",
      "source": [
        "<hr>\n",
        "\n",
        "## Video Capture and framing"
      ],
      "metadata": {
        "id": "Zgo46yWE_Phf"
      }
    },
    {
      "cell_type": "code",
      "source": [
        "vido = cv2.VideoCapture('DataExample.mp4')"
      ],
      "metadata": {
        "id": "xFQK1NVNas6o"
      },
      "execution_count": null,
      "outputs": []
    },
    {
      "cell_type": "code",
      "source": [
        "video_frames_count = int(vido.get(cv2.CAP_PROP_FRAME_COUNT))\n",
        "print('Video frames count = ', video_frames_count)"
      ],
      "metadata": {
        "id": "zs7D6Wmba9vI"
      },
      "execution_count": null,
      "outputs": []
    },
    {
      "cell_type": "code",
      "source": [
        "for i in range(video_frames_count-5000):  # get just first 187 frames\n",
        "  ret, frame = vido.read()\n",
        "  if ret:\n",
        "    frames_folder = f\"frames/frame_{i}.jpg\"\n",
        "    cv2.imwrite(frames_folder, frame)\n",
        "\n",
        "# Close video file\n",
        "vido.release()"
      ],
      "metadata": {
        "id": "sQFAIes4ccOS"
      },
      "execution_count": null,
      "outputs": []
    },
    {
      "cell_type": "markdown",
      "source": [
        "<hr>\n",
        "\n",
        "## Convert image to hsv colour mode and define colours range"
      ],
      "metadata": {
        "id": "cmhJ7brxAWjS"
      }
    },
    {
      "cell_type": "code",
      "source": [
        "frame = f\"frames/frame_150.jpg\"\n",
        "\n",
        "image = cv2.imread(frame)\n",
        "hsv = cv2.cvtColor(image, cv2.COLOR_BGR2HSV)\n",
        "\n",
        "imgs_array = [image, hsv]\n",
        "plt.figure(figsize=(15,15))\n",
        "for i in range(2):\n",
        "    plt.subplot(1,2,i+1)\n",
        "    plt.imshow(imgs_array[i])\n",
        "plt.show()"
      ],
      "metadata": {
        "id": "9_zfZCOqrxqp"
      },
      "execution_count": null,
      "outputs": []
    },
    {
      "cell_type": "code",
      "source": [
        "#blue range for detect blue team\n",
        "lower_blue = np.array([110,50,50])\n",
        "upper_blue = np.array([130,255,255])\n",
        "#Yellow range for detect yellow team\n",
        "lower_yellow = np.array([70,70,150])\n",
        "upper_yellow = np.array([110,250,500])\n",
        "#white range for detect white ball\n",
        "lower_white = np.array([145, 163, 113])\n",
        "upper_white = np.array([255, 255, 238])\n",
        "#Line white range for detect white lines\n",
        "lower_white_line = (116,133,89)\n",
        "upper_white_line = (145,164,119)"
      ],
      "metadata": {
        "id": "U8xUD682DjpD"
      },
      "execution_count": null,
      "outputs": []
    },
    {
      "cell_type": "markdown",
      "source": [
        "<hr>\n",
        "\n",
        "## Region Labeling"
      ],
      "metadata": {
        "id": "s4S_rK9QsNAw"
      }
    },
    {
      "cell_type": "code",
      "source": [
        "for i in range(video_frames_count-5000):\n",
        "    img = cv2.imread(f'frames/frame_{i}.jpg')\n",
        "    img2 = cv2.cvtColor(img, cv2.COLOR_BGR2RGB)\n",
        "    white_line_mask = cv2.inRange(img2, lower_white_line, upper_white_line)\n",
        "    plt.imshow(white_line_mask)\n",
        "    plt.show()"
      ],
      "metadata": {
        "id": "orOhsHf-sNaJ"
      },
      "execution_count": null,
      "outputs": []
    },
    {
      "cell_type": "markdown",
      "source": [
        "<hr>\n",
        "\n",
        "## Feature Extraction and the Blue Team Labeling"
      ],
      "metadata": {
        "id": "PKwnU5RRA0uq"
      }
    },
    {
      "cell_type": "code",
      "source": [
        "blueTeamImage = image\n",
        "blue = cv2.inRange(hsv, lower_blue, upper_blue)\n",
        "plt.subplot(1, 2, 1)\n",
        "plt.imshow(blueTeamImage)\n",
        "plt.subplot(1, 2, 2)\n",
        "plt.imshow(blue)\n",
        "plt.show()"
      ],
      "metadata": {
        "id": "I4b8hUEGahLu"
      },
      "execution_count": null,
      "outputs": []
    },
    {
      "cell_type": "code",
      "source": [
        "(contours, hierarchy) = cv2.findContours(blue, cv2.RETR_TREE, cv2.CHAIN_APPROX_SIMPLE)\n",
        "contours_poly = [None]*len(contours)\n",
        "centers = [None]*len(contours)\n",
        "radius = [None]*len(contours)\n",
        "for i, c in enumerate(contours):\n",
        "  contours_poly[i] = cv2.approxPolyDP(c, 3, True)\n",
        "  centers[i], radius[i] = cv2.minEnclosingCircle(contours_poly[i])\n",
        "  radius[i]=20"
      ],
      "metadata": {
        "id": "PQfawihbbxRW"
      },
      "execution_count": null,
      "outputs": []
    },
    {
      "cell_type": "code",
      "source": [
        "for i in range(len(contours)):\n",
        "    cv2.circle(blueTeamImage, (int(centers[i][0]), int(centers[i][1])), int(radius[i]), (50,50,255), 2)\n",
        "    cv2.circle(blue, (int(centers[i][0]), int(centers[i][1])), int(radius[i]), (50,50,255), 2)\n",
        "img_array=[blueTeamImage,blue]\n",
        "plt.figure(figsize=(15,15))\n",
        "for i in range(2):\n",
        "    plt.subplot(1,2,i+1)\n",
        "    plt.imshow(img_array[i])\n",
        "    plt.title(\"blue team\")\n",
        "plt.show()"
      ],
      "metadata": {
        "id": "5F9Zi5hCdjX3"
      },
      "execution_count": null,
      "outputs": []
    },
    {
      "cell_type": "markdown",
      "source": [
        "<hr>\n",
        "\n",
        "## Feature Extraction and the Yellow Team Labeling"
      ],
      "metadata": {
        "id": "4Ztiyz2jBFu8"
      }
    },
    {
      "cell_type": "code",
      "source": [
        "yelloTeamImage = image\n",
        "yellow = cv2.inRange(hsv, lower_yellow, upper_yellow)\n",
        "plt.subplot(1, 2, 1)\n",
        "plt.imshow(yelloTeamImage)\n",
        "plt.subplot(1, 2, 2)\n",
        "plt.imshow(yellow)\n",
        "plt.show()"
      ],
      "metadata": {
        "id": "4Kiv2dAxheUs"
      },
      "execution_count": null,
      "outputs": []
    },
    {
      "cell_type": "code",
      "source": [
        "(contours, hierarchy) = cv2.findContours(yellow, cv2.RETR_TREE, cv2.CHAIN_APPROX_SIMPLE)\n",
        "contours_poly = [None]*len(contours)\n",
        "centers = [None]*len(contours)\n",
        "radius = [None]*len(contours)\n",
        "for i, c in enumerate(contours):\n",
        "  contours_poly[i] = cv2.approxPolyDP(c, 3, True)\n",
        "  centers[i], radius[i] = cv2.minEnclosingCircle(contours_poly[i])\n",
        "  radius[i]=20"
      ],
      "metadata": {
        "id": "5bMaAkthnGbr"
      },
      "execution_count": null,
      "outputs": []
    },
    {
      "cell_type": "code",
      "source": [
        "for i in range(len(contours)):\n",
        "    cv2.circle(image, (int(centers[i][0]), int(centers[i][1])), int(radius[i]), (255,255,0), 2)\n",
        "    cv2.circle(yellow, (int(centers[i][0]), int(centers[i][1])), int(radius[i]), (255,255,0), 2)\n",
        "img_array=[image,yellow]\n",
        "plt.figure(figsize=(15,15))\n",
        "for i in range(2):\n",
        "    plt.subplot(1,2,i+1)\n",
        "    plt.imshow(img_array[i])\n",
        "    plt.title(\"yellow team\")\n",
        "plt.show()"
      ],
      "metadata": {
        "id": "i6dBbaqPnLrm"
      },
      "execution_count": null,
      "outputs": []
    },
    {
      "cell_type": "markdown",
      "source": [
        "<hr>\n",
        "\n",
        "## Ball Labeling"
      ],
      "metadata": {
        "id": "sXyyymWybhiI"
      }
    },
    {
      "cell_type": "code",
      "source": [
        "frames = []\n",
        "for i in range(76,video_frames_count-5000):\n",
        "  img_file = f'frames/frame_{i}.jpg'\n",
        "  img = cv2.imread(img_file)\n",
        "  if img is None:\n",
        "        continue\n",
        "  img2 = cv2.cvtColor(img, cv2.COLOR_BGR2RGB)\n",
        "  white_mask = cv2.inRange(img2, lower_white, upper_white)\n",
        "  frames.append(white_mask)\n",
        "\n",
        "xball= 262\n",
        "yball= 143\n",
        "threshold= 15\n",
        "\n",
        "ball_frames= []\n",
        "for frame in frames:\n",
        "    ball_mask= np.copy(frame)\n",
        "    for r in range(ball_mask.shape[0]):\n",
        "        for c in range(ball_mask.shape[1]):\n",
        "            if ball_mask[r][c] > 0:\n",
        "                distance= math.sqrt((yball-r)**2 +(xball-c)**2)\n",
        "                if distance <= threshold:\n",
        "                    yball= r\n",
        "                    xball= c\n",
        "                else:\n",
        "                    ball_mask[r][c] = 0\n",
        "    ball_frames.append(ball_mask)\n",
        "\n",
        "for i in range(len(frames)):\n",
        "    plt.imshow(ball_frames[i])\n",
        "    plt.show()"
      ],
      "metadata": {
        "id": "lJuDs4VNbiE5"
      },
      "execution_count": null,
      "outputs": []
    },
    {
      "cell_type": "markdown",
      "source": [
        "<hr>\n",
        "\n",
        "## Statistical Data Dense Counting"
      ],
      "metadata": {
        "id": "CfiQur59BJt5"
      }
    },
    {
      "cell_type": "code",
      "source": [
        "img = cv2.imread(\"frames/frame_0.jpg\")\n",
        "img2 = cv2.cvtColor(img, cv2.COLOR_BGR2RGB)\n",
        "crops = []\n",
        "width = img2.shape[1]\n",
        "height = img2.shape[0]\n",
        "cx = width // 4\n",
        "cy = height // 3\n",
        "\n",
        "# Set the blue and yellow players positions\n",
        "blue_team = [(2, 132), (45, 81), (152, 27), (193, 155), (299, 104), (324, 120), (290, 77), (337, 37)]\n",
        "yellow_team = [(406, 55), (399, 99), (435, 125), (482, 201), (240, 230), (303, 149), (313, 113), (284, 94),(210, 55), (160, 133)]\n",
        "\n",
        "for j in range(3):\n",
        "    for i in range(4):\n",
        "        x = i * cx\n",
        "        y = j * cy\n",
        "\n",
        "        # Count blue players in crop\n",
        "        blue_count = 0\n",
        "        for player in blue_team:\n",
        "            if player[0] >= x and player[1] >= y and player[0] <= x + cx and player[1] <= y + cy:\n",
        "                blue_count += 1\n",
        "\n",
        "        # Count yellow players in crop\n",
        "        yellow_count = 0\n",
        "        for player in yellow_team:\n",
        "            if player[0] >= x and player[1] >= y and player[0] <= x + cx and player[1] <= y + cy:\n",
        "                yellow_count += 1\n",
        "\n",
        "        players_count = yellow_count + blue_count\n",
        "        crops.append({'crop': img2[y:y+cy, x:x+cx],'players_count':players_count, 'blue_count': blue_count, 'yellow_count': yellow_count})\n",
        "\n",
        "plt.figure(figsize=(12, 9))\n",
        "\n",
        "for i in range(len(crops)):\n",
        "    if i < 12:\n",
        "        plt.subplot(4, 3, i+1)\n",
        "        plt.imshow(crops[i]['crop'])\n",
        "        plt.title(f\"players: {crops[i]['players_count']}, Blue: {crops[i]['blue_count']}, Yellow: {crops[i]['yellow_count']}\")\n",
        "        plt.axis('off')\n",
        "\n",
        "plt.show()"
      ],
      "metadata": {
        "id": "onbvelVFoPHg"
      },
      "execution_count": null,
      "outputs": []
    }
  ]
}